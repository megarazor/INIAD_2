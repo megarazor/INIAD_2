{
 "cells": [
  {
   "cell_type": "code",
   "execution_count": 10,
   "metadata": {},
   "outputs": [],
   "source": [
    "def linear_search(lst, v):\n",
    "    for i in range(len(lst)):\n",
    "        if lst[i]==v:\n",
    "            return i\n",
    "    return -1"
   ]
  },
  {
   "cell_type": "code",
   "execution_count": 11,
   "metadata": {},
   "outputs": [
    {
     "data": {
      "text/plain": [
       "5"
      ]
     },
     "execution_count": 11,
     "metadata": {},
     "output_type": "execute_result"
    }
   ],
   "source": [
    "linear_search([1, 3, 5, 6, 9, 10, 15], 10)"
   ]
  },
  {
   "cell_type": "code",
   "execution_count": 12,
   "metadata": {},
   "outputs": [],
   "source": [
    "def binary_search(lst, v):\n",
    "    l= 0\n",
    "    r= len(lst) - 1\n",
    "    while l<=r:\n",
    "        i= l + (r - l)//2\n",
    "        if lst[i]>v:\n",
    "            r= i - 1\n",
    "        elif lst[i]<v:\n",
    "            l= i + 1\n",
    "        else:\n",
    "            return i\n",
    "    return -1"
   ]
  },
  {
   "cell_type": "code",
   "execution_count": 13,
   "metadata": {},
   "outputs": [
    {
     "data": {
      "text/plain": [
       "3"
      ]
     },
     "execution_count": 13,
     "metadata": {},
     "output_type": "execute_result"
    }
   ],
   "source": [
    "binary_search([1, 2, 3, 5, 6, 10], 5)"
   ]
  },
  {
   "cell_type": "code",
   "execution_count": 14,
   "metadata": {},
   "outputs": [],
   "source": [
    "import random\n",
    "\n",
    "def setup_lst(x):\n",
    "    lst= random.sample(range(x*2), k= x)\n",
    "    c= random.randrange(x*2)\n",
    "    return(lst, c)\n",
    "\n",
    "def setup_lst_sorted(x):\n",
    "    lst= sorted(random.sample(range(x*2), k= x))\n",
    "    c= random.randrange(x*2)\n",
    "    return (lst, c)"
   ]
  },
  {
   "cell_type": "code",
   "execution_count": 15,
   "metadata": {},
   "outputs": [
    {
     "data": {
      "image/png": "[encoded data removed]",
      "text/plain": [
       "<Figure size 432x288 with 1 Axes>"
      ]
     },
     "metadata": {
      "needs_background": "light"
     },
     "output_type": "display_data"
    }
   ],
   "source": [
    "import timeit\n",
    "import matplotlib.pyplot as plt\n",
    "\n",
    "n= 1\n",
    "r= 1000\n",
    "\n",
    "xs= range(20, 1000, 20)\n",
    "ys= []\n",
    "\n",
    "for x in xs:\n",
    "    time= timeit.repeat('linear_search(lst, c)', setup='(lst, c)= setup_lst(x)', globals= globals(), number= n, repeat= r)\n",
    "    ys.append(sum(time)/(n*r))\n",
    "    \n",
    "plt.plot(xs, ys, 'o')\n",
    "plt.ylim(0, max(ys)*1.1)\n",
    "plt.xlabel('Length of list', fontsize= 9)\n",
    "plt.ylabel('Average time (s)', fontsize= 9)\n",
    "plt.show()"
   ]
  },
  {
   "cell_type": "code",
   "execution_count": 16,
   "metadata": {},
   "outputs": [
    {
     "data": {
      "image/png": "[encoded data removed]",
      "text/plain": [
       "<Figure size 432x288 with 1 Axes>"
      ]
     },
     "metadata": {
      "needs_background": "light"
     },
     "output_type": "display_data"
    }
   ],
   "source": [
    "import timeit\n",
    "import matplotlib.pyplot as plt\n",
    "\n",
    "n= 1\n",
    "r= 1000\n",
    "\n",
    "xs= range(20, 1000, 20)\n",
    "ys= []\n",
    "\n",
    "for x in xs:\n",
    "    time= timeit.repeat('binary_search(lst, c)', setup='(lst, c)= setup_lst_sorted(x)', globals= globals(), number= n, repeat= r)\n",
    "    ys.append(sum(time)/(n*r))\n",
    "    \n",
    "plt.plot(xs, ys, 'o')\n",
    "plt.ylim(0, max(ys)*1.1)\n",
    "plt.xlabel('Length of list', fontsize= 9)\n",
    "plt.ylabel('Average time (s)', fontsize= 9)\n",
    "plt.show()"
   ]
  },
  {
   "cell_type": "code",
   "execution_count": null,
   "metadata": {},
   "outputs": [],
   "source": []
  }
 ],
 "metadata": {
  "kernelspec": {
   "display_name": "Python 3",
   "language": "python",
   "name": "python3"
  },
  "language_info": {
   "codemirror_mode": {
    "name": "ipython",
    "version": 3
   },
   "file_extension": ".py",
   "mimetype": "text/x-python",
   "name": "python",
   "nbconvert_exporter": "python",
   "pygments_lexer": "ipython3",
   "version": "3.6.6"
  }
 },
 "nbformat": 4,
 "nbformat_minor": 2
}
