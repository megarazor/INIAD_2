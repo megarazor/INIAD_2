{
 "cells": [
  {
   "cell_type": "code",
   "execution_count": 14,
   "metadata": {},
   "outputs": [
    {
     "name": "stdout",
     "output_type": "stream",
     "text": [
      "              Time  Length\n",
      "0         0.000000      96\n",
      "1         0.000000    1472\n",
      "2         0.000000     100\n",
      "3         0.000000    1476\n",
      "4         0.002025    1472\n",
      "...            ...     ...\n",
      "583709  115.710576    1400\n",
      "583710  115.710578    1396\n",
      "583711  115.710578    1400\n",
      "583712  115.711664      75\n",
      "583713  115.711664      79\n",
      "\n",
      "[583714 rows x 2 columns]\n"
     ]
    }
   ],
   "source": [
    "import numpy as np\n",
    "import pandas as pd\n",
    "import csv\n",
    "\n",
    "mylist= pd.read_csv(\"new_total.csv\")\n",
    "\n",
    "print(mylist)"
   ]
  },
  {
   "cell_type": "code",
   "execution_count": 15,
   "metadata": {},
   "outputs": [
    {
     "name": "stdout",
     "output_type": "stream",
     "text": [
      "Package number:  583714\n"
     ]
    }
   ],
   "source": [
    "count= len(mylist)\n",
    "print(\"Package number: \", count)"
   ]
  },
  {
   "cell_type": "code",
   "execution_count": 16,
   "metadata": {},
   "outputs": [
    {
     "name": "stdout",
     "output_type": "stream",
     "text": [
      "Time:  115.71166399999998\n"
     ]
    }
   ],
   "source": [
    "time= mylist.iloc[583713][\"Time\"]\n",
    "print(\"Time: \", time)"
   ]
  },
  {
   "cell_type": "code",
   "execution_count": 17,
   "metadata": {},
   "outputs": [
    {
     "name": "stdout",
     "output_type": "stream",
     "text": [
      "Average packet count per time unit:  5044.55626876129  packet/s\n"
     ]
    }
   ],
   "source": [
    "avg_count= count/time # This is λ value\n",
    "print(\"Average packet count per time unit: \", avg_count, \" packet/s\")"
   ]
  },
  {
   "cell_type": "code",
   "execution_count": 19,
   "metadata": {},
   "outputs": [
    {
     "name": "stdout",
     "output_type": "stream",
     "text": [
      "Total packet length:  812828040  bytes\n",
      "Average packet length:  1392.510784390986  bytes\n"
     ]
    }
   ],
   "source": [
    "total_length= mylist[\"Length\"].sum()\n",
    "print(\"Total packet length: \", total_length, \" bytes\")\n",
    "avg_length= total_length/count # This is L value\n",
    "print(\"Average packet length: \", avg_length, \" bytes\")"
   ]
  },
  {
   "cell_type": "code",
   "execution_count": 21,
   "metadata": {},
   "outputs": [
    {
     "name": "stdout",
     "output_type": "stream",
     "text": [
      "C should be larger than:  428.7474979685821\n",
      "C:  429 Mbps, T:  0.3365997209124978 s\n",
      "C:  430 Mbps, T:  0.06785786463667179 s\n",
      "C:  431 Mbps, T:  0.03773231372031803 s\n",
      "C:  432 Mbps, T:  0.02613130214343394 s\n",
      "C:  433 Mbps, T:  0.019986378061005772 s\n",
      "C:  434 Mbps, T:  0.01618126233873544 s\n",
      "C:  435 Mbps, T:  0.0135932963920749 s\n",
      "C:  436 Mbps, T:  0.011719005790956957 s\n",
      "C:  437 Mbps, T:  0.010298950909862535 s\n",
      "C:  438 Mbps, T:  0.009185851893521736 s\n",
      "C:  439 Mbps, T:  0.008289889925860336 s\n",
      "C:  440 Mbps, T:  0.0075531746688699995 s\n",
      "C:  441 Mbps, T:  0.006936714891960575 s\n",
      "C:  442 Mbps, T:  0.0064132880797619736 s\n",
      "C:  443 Mbps, T:  0.005963311783275592 s\n",
      "C:  444 Mbps, T:  0.005572339090992578 s\n",
      "C:  445 Mbps, T:  0.005229478706774784 s\n",
      "C:  446 Mbps, T:  0.004926364486167732 s\n",
      "C:  447 Mbps, T:  0.004656463708855775 s\n",
      "C:  448 Mbps, T:  0.004414600926488216 s\n",
      "C:  449 Mbps, T:  0.004196622875201525 s\n",
      "C:  450 Mbps, T:  0.00399915798993778 s\n",
      "C:  451 Mbps, T:  0.0038194407615429024 s\n",
      "C:  452 Mbps, T:  0.003655181416188059 s\n",
      "C:  453 Mbps, T:  0.0035044678357313746 s\n",
      "C:  454 Mbps, T:  0.0033656907818231624 s\n",
      "C:  455 Mbps, T:  0.003237486210015291 s\n",
      "C:  456 Mbps, T:  0.0031186902841849554 s\n",
      "C:  457 Mbps, T:  0.0030083039445709713 s\n",
      "C:  458 Mbps, T:  0.002905464743283507 s\n",
      "C:  459 Mbps, T:  0.00280942426569702 s\n"
     ]
    }
   ],
   "source": [
    "print(\"C should be larger than: \", avg_count * 8 * avg_length / 131072)\n",
    "\n",
    "link_capacity_array= []\n",
    "avg_delay_array= []\n",
    "loop_count= 0\n",
    "\n",
    "for C_in_Mbps in range(429, 460): # This is C value in Mbps\n",
    "    link_capacity_array.append(C_in_Mbps)\n",
    "    link_capacity= C_in_Mbps * 131072; # Convert to byte per second\n",
    "    link_uti= 8 * avg_count * avg_length / link_capacity\n",
    "    avg_delay= (8 * avg_length / link_capacity) / (1 - (8 * avg_count * avg_length / link_capacity)) # T = h/(1-ρ) = 8×L/C/(1-8×λ×L/C)\n",
    "    avg_delay_array.append(avg_delay)\n",
    "    loop_count= loop_count + 1\n",
    "\n",
    "for i in range(0, loop_count):\n",
    "    print(\"C: \", link_capacity_array[i], end=\" Mbps, \")\n",
    "    print(\"T: \", avg_delay_array[i], \"s\")"
   ]
  },
  {
   "cell_type": "code",
   "execution_count": 22,
   "metadata": {},
   "outputs": [
    {
     "data": {
      "image/png": "[encoded data removed]",
      "text/plain": [
       "<Figure size 432x288 with 1 Axes>"
      ]
     },
     "metadata": {
      "needs_background": "light"
     },
     "output_type": "display_data"
    }
   ],
   "source": [
    "import matplotlib.pyplot as plt\n",
    "plt.plot(link_capacity_array, avg_delay_array)\n",
    "plt.xlabel(\"Link capacity (Mbps)\")\n",
    "plt.ylabel(\"Average delay time (s)\")\n",
    "plt.show()"
   ]
  },
  {
   "cell_type": "code",
   "execution_count": null,
   "metadata": {},
   "outputs": [],
   "source": []
  }
 ],
 "metadata": {
  "kernelspec": {
   "display_name": "Python 3",
   "language": "python",
   "name": "python3"
  },
  "language_info": {
   "codemirror_mode": {
    "name": "ipython",
    "version": 3
   },
   "file_extension": ".py",
   "mimetype": "text/x-python",
   "name": "python",
   "nbconvert_exporter": "python",
   "pygments_lexer": "ipython3",
   "version": "3.7.5"
  }
 },
 "nbformat": 4,
 "nbformat_minor": 2
}
