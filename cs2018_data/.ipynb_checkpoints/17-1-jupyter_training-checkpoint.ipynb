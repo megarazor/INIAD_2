{
 "cells": [
  {
   "cell_type": "markdown",
   "metadata": {},
   "source": [
    "mah name ma jeff"
   ]
  },
  {
   "cell_type": "code",
   "execution_count": 8,
   "metadata": {},
   "outputs": [
    {
     "name": "stdout",
     "output_type": "stream",
     "text": [
      "0\n",
      "1\n",
      "2\n",
      "3\n",
      "4\n"
     ]
    }
   ],
   "source": [
    "for i in range(0, 5):\n",
    "    print(i)"
   ]
  },
  {
   "cell_type": "markdown",
   "metadata": {},
   "source": [
    "### Markdownのテスト\n",
    "ヘッダは自動的に改行されます。\n",
    "普通のテキストは行末に2個以上の半角空白か、  \n",
    "brタグを置くと改行されます。<br>\n",
    "Markdownセルのテストでした。"
   ]
  },
  {
   "cell_type": "code",
   "execution_count": 9,
   "metadata": {},
   "outputs": [],
   "source": [
    "a=2\n",
    "b=3"
   ]
  },
  {
   "cell_type": "markdown",
   "metadata": {},
   "source": [
    "Operation in variables"
   ]
  },
  {
   "cell_type": "code",
   "execution_count": 10,
   "metadata": {},
   "outputs": [],
   "source": [
    "a+= b"
   ]
  },
  {
   "cell_type": "markdown",
   "metadata": {},
   "source": [
    "show results"
   ]
  },
  {
   "cell_type": "code",
   "execution_count": 11,
   "metadata": {},
   "outputs": [
    {
     "name": "stdout",
     "output_type": "stream",
     "text": [
      "5\n"
     ]
    }
   ],
   "source": [
    "print(a)"
   ]
  },
  {
   "cell_type": "markdown",
   "metadata": {},
   "source": [
    "<h1>INIAD</h1>\n",
    "<h1>Concepts</h1>\n",
    "    <ul>\n",
    "        <li>Wisdom of the <i>Sciences</i></li>\n",
    "        <li>Wisdom of the <b><i>Humanities</i></b></li>\n",
    "        <li>Wisdom of the <b><i>Arts</i></b></li>\n",
    "    </ul>\n",
    "<h1>For courses</h1>"
   ]
  },
  {
   "cell_type": "markdown",
   "metadata": {},
   "source": [
    "<h1>INIAD</h1>\n",
    "<h1>Concepts</h1>\n",
    "    <ul>\n",
    "    <li>Wisdom of the <i>Sciences</i></li>\n",
    "    <li>Wisdom of the <b><i>Humanities</i></b></li>\n",
    "    <li>Wisdom of the <b><i>Arts</i></b></li>\n",
    "    </ul>\n",
    "<h1>Four courses</h1>\n",
    "    <ol>\n",
    "    <li>Information Networking Computer Science & Engineering<li>Computer architecture & Computer network</li></li>\n",
    "    </ol>"
   ]
  },
  {
   "cell_type": "markdown",
   "metadata": {},
   "source": [
    "<h1>INIAD</h1>\n",
    "<h1>Concepts</h1>\n",
    "    <ul>\n",
    "        <li>Wisdom of the <i>Sciences</i></li>\n",
    "        <li>Wisdom of the <b><i>Humanities</i></b></li>\n",
    "        <li>Wisdom of the <b><i>Arts</i></b></li>\n",
    "    </ul>\n",
    "<h1>Four courses</h1>\n",
    "    <ol>\n",
    "        <li>Information Networking Computer Science & Engineering\n",
    "            <ul><li>Computer architecture & Computer network</li></ul>\n",
    "        </li>\n",
    "    </ol>"
   ]
  },
  {
   "cell_type": "markdown",
   "metadata": {},
   "source": [
    "<h1>INIAD</h1>\n",
    "<h1>Concepts</h1>\n",
    "    <ul>\n",
    "        <li>Wisdom of the <i>Sciences</i></li>\n",
    "        <li>Wisdom of the <b><i>Humanities</i></b></li>\n",
    "        <li>Wisdom of the <b><i>Arts</i></b></li>\n",
    "    </ul>\n",
    "<h1>Four courses</h1>\n",
    "    <ol>\n",
    "        <li>Information Networking Computer Science & Engineering\n",
    "            <ul><li>Computer architecture & Computer network</li></ul>\n",
    "        </li>\n",
    "        <li>Information Networking Digital Design\n",
    "            <ul><li>Digital design & User experience design</li></ul>\n",
    "        </li>\n",
    "        <li>Information Networking Business Innovation\n",
    "            <ul><li>Business incubation & Data science</li></ul>\n",
    "        </li>\n",
    "        <li>Information Networking Social Infrastructure\n",
    "            <ul><li>Infrastructure services & Quality of living</li></ul>\n",
    "        </li>\n",
    "    </ol>"
   ]
  },
  {
   "cell_type": "code",
   "execution_count": 1,
   "metadata": {},
   "outputs": [
    {
     "ename": "SyntaxError",
     "evalue": "invalid syntax (<ipython-input-1-58f1093ea226>, line 1)",
     "output_type": "error",
     "traceback": [
      "\u001b[1;36m  File \u001b[1;32m\"<ipython-input-1-58f1093ea226>\"\u001b[1;36m, line \u001b[1;32m1\u001b[0m\n\u001b[1;33m    <h1>INIAD</h1>\u001b[0m\n\u001b[1;37m    ^\u001b[0m\n\u001b[1;31mSyntaxError\u001b[0m\u001b[1;31m:\u001b[0m invalid syntax\n"
     ]
    }
   ],
   "source": [
    "<h1>INIAD</h1>\n",
    "<h1>Concepts</h1>\n",
    "    <ul>\n",
    "        <li>Wisdom of the <i>Sciences</i></li>\n",
    "        <li>Wisdom of the <b><i>Humanities</i></b></li>\n",
    "        <li>Wisdom of the <b><i>Arts</i></b></li>\n",
    "    </ul>\n",
    "<h1>Four courses</h1>\n",
    "    <ol>\n",
    "        <li>Information Networking Computer Science & Engineering\n",
    "            <ul><li>Computer architecture & Computer network</li></ul>\n",
    "        </li>\n",
    "        <li>Information Networking Digital Design\n",
    "            <ul><li>Digital design & User experience design</li></ul>\n",
    "        </li>\n",
    "        <li>Information Networking Business Innovation\n",
    "            <ul><li>Business incubation & Data science</li></ul>\n",
    "        </li>\n",
    "        <li>Information Networking Social Infrastructure\n",
    "            <ul><li>Infrastructure services & Quality of living</li></ul>\n",
    "        </li>\n",
    "    </ol>"
   ]
  },
  {
   "cell_type": "markdown",
   "metadata": {},
   "source": [
    "<h1>INIAD</h1>\n",
    "<h1>Concepts</h1>\n",
    "    <ul>\n",
    "        <li>Wisdom of the <i>Sciences</i></li>\n",
    "        <li>Wisdom of the <b><i>Humanities</i></b></li>\n",
    "        <li>Wisdom of the <b><i>Arts</i></b></li>\n",
    "    </ul>\n",
    "<h1>Four courses</h1>\n",
    "    <ol>\n",
    "        <li>Information Networking Computer Science & Engineering\n",
    "            <ul><li>Computer architecture & Computer network</li></ul>\n",
    "        </li>\n",
    "        <li>Information Networking Digital Design\n",
    "            <ul><li>Digital design & User experience design</li></ul>\n",
    "        </li>\n",
    "        <li>Information Networking Business Innovation\n",
    "            <ul><li>Business incubation & Data science</li></ul>\n",
    "        </li>\n",
    "        <li>Information Networking Social Infrastructure\n",
    "            <ul><li>Infrastructure services & Quality of living</li></ul>\n",
    "        </li>\n",
    "    </ol>\n",
    "<br>\n",
    "<p>Hompage: https://www.iniad.org</p>\n",
    "<p>Curriculum: https://www.iniad.org/en/curriculum</p>"
   ]
  },
  {
   "cell_type": "code",
   "execution_count": 2,
   "metadata": {},
   "outputs": [
    {
     "ename": "SyntaxError",
     "evalue": "invalid syntax (<ipython-input-2-a9f4429209f0>, line 1)",
     "output_type": "error",
     "traceback": [
      "\u001b[1;36m  File \u001b[1;32m\"<ipython-input-2-a9f4429209f0>\"\u001b[1;36m, line \u001b[1;32m1\u001b[0m\n\u001b[1;33m    <h1>INIAD</h1>\u001b[0m\n\u001b[1;37m    ^\u001b[0m\n\u001b[1;31mSyntaxError\u001b[0m\u001b[1;31m:\u001b[0m invalid syntax\n"
     ]
    }
   ],
   "source": [
    "<h1>INIAD</h1>\n",
    "<h1>Concepts</h1>\n",
    "    <ul>\n",
    "        <li>Wisdom of the <i>Sciences</i></li>\n",
    "        <li>Wisdom of the <b><i>Humanities</i></b></li>\n",
    "        <li>Wisdom of the <b><i>Arts</i></b></li>\n",
    "    </ul>\n",
    "<h1>Four courses</h1>\n",
    "    <ol>\n",
    "        <li>Information Networking Computer Science & Engineering\n",
    "            <ul><li>Computer architecture & Computer network</li></ul>\n",
    "        </li>\n",
    "        <li>Information Networking Digital Design\n",
    "            <ul><li>Digital design & User experience design</li></ul>\n",
    "        </li>\n",
    "        <li>Information Networking Business Innovation\n",
    "            <ul><li>Business incubation & Data science</li></ul>\n",
    "        </li>\n",
    "        <li>Information Networking Social Infrastructure\n",
    "            <ul><li>Infrastructure services & Quality of living</li></ul>\n",
    "        </li>\n",
    "    </ol>\n",
    "<p>Hompage: <a href=\"https://www.iniad.org\">https://www.iniad.org</a>\n",
    "Curriculum: <a href=\"https://www.iniad.org/en/curriculum\">https://www.iniad.org/en/curriculum</a></p>"
   ]
  },
  {
   "cell_type": "markdown",
   "metadata": {},
   "source": [
    "<h1>INIAD</h1>\n",
    "<h1>Concepts</h1>\n",
    "    <ul>\n",
    "        <li>Wisdom of the <i>Sciences</i></li>\n",
    "        <li>Wisdom of the <b><i>Humanities</i></b></li>\n",
    "        <li>Wisdom of the <b><i>Arts</i></b></li>\n",
    "    </ul>\n",
    "<h1>Four courses</h1>\n",
    "    <ol>\n",
    "        <li>Information Networking Computer Science & Engineering\n",
    "            <ul><li>Computer architecture & Computer network</li></ul>\n",
    "        </li>\n",
    "        <li>Information Networking Digital Design\n",
    "            <ul><li>Digital design & User experience design</li></ul>\n",
    "        </li>\n",
    "        <li>Information Networking Business Innovation\n",
    "            <ul><li>Business incubation & Data science</li></ul>\n",
    "        </li>\n",
    "        <li>Information Networking Social Infrastructure\n",
    "            <ul><li>Infrastructure services & Quality of living</li></ul>\n",
    "        </li>\n",
    "    </ol>\n",
    "<p>Hompage: <a href=\"https://www.iniad.org\">https://www.iniad.org</a>\n",
    "Curriculum: <a href=\"https://www.iniad.org/en/curriculum\">https://www.iniad.org/en/curriculum</a></p>"
   ]
  },
  {
   "cell_type": "code",
   "execution_count": 3,
   "metadata": {},
   "outputs": [
    {
     "ename": "SyntaxError",
     "evalue": "invalid syntax (<ipython-input-3-f5754141bfe5>, line 1)",
     "output_type": "error",
     "traceback": [
      "\u001b[1;36m  File \u001b[1;32m\"<ipython-input-3-f5754141bfe5>\"\u001b[1;36m, line \u001b[1;32m1\u001b[0m\n\u001b[1;33m    <h1>INIAD</h1>\u001b[0m\n\u001b[1;37m    ^\u001b[0m\n\u001b[1;31mSyntaxError\u001b[0m\u001b[1;31m:\u001b[0m invalid syntax\n"
     ]
    }
   ],
   "source": [
    "<h1>INIAD</h1>\n",
    "<h1>Concepts</h1>\n",
    "    <ul>\n",
    "        <li>Wisdom of the <i>Sciences</i></li>\n",
    "        <li>Wisdom of the <b><i>Humanities</i></b></li>\n",
    "        <li>Wisdom of the <b><i>Arts</i></b></li>\n",
    "    </ul>\n",
    "<h1>Four courses</h1>\n",
    "    <ol>\n",
    "        <li>Information Networking Computer Science & Engineering\n",
    "            <ul><li>Computer architecture & Computer network</li></ul>\n",
    "        </li>\n",
    "        <li>Information Networking Digital Design\n",
    "            <ul><li>Digital design & User experience design</li></ul>\n",
    "        </li>\n",
    "        <li>Information Networking Business Innovation\n",
    "            <ul><li>Business incubation & Data science</li></ul>\n",
    "        </li>\n",
    "        <li>Information Networking Social Infrastructure\n",
    "            <ul><li>Infrastructure services & Quality of living</li></ul>\n",
    "        </li>\n",
    "    </ol>\n",
    "<p>Hompage: <a href=\"https://www.iniad.org\">https://www.iniad.org</a> <br>\n",
    "Curriculum: <a href=\"https://www.iniad.org/en/curriculum\">https://www.iniad.org/en/curriculum</a></p>"
   ]
  },
  {
   "cell_type": "markdown",
   "metadata": {},
   "source": [
    "<h1>INIAD</h1>\n",
    "<h1>Concepts</h1>\n",
    "    <ul>\n",
    "        <li>Wisdom of the <i>Sciences</i></li>\n",
    "        <li>Wisdom of the <b><i>Humanities</i></b></li>\n",
    "        <li>Wisdom of the <b><i>Arts</i></b></li>\n",
    "    </ul>\n",
    "<h1>Four courses</h1>\n",
    "    <ol>\n",
    "        <li>Information Networking Computer Science & Engineering\n",
    "            <ul><li>Computer architecture & Computer network</li></ul>\n",
    "        </li>\n",
    "        <li>Information Networking Digital Design\n",
    "            <ul><li>Digital design & User experience design</li></ul>\n",
    "        </li>\n",
    "        <li>Information Networking Business Innovation\n",
    "            <ul><li>Business incubation & Data science</li></ul>\n",
    "        </li>\n",
    "        <li>Information Networking Social Infrastructure\n",
    "            <ul><li>Infrastructure services & Quality of living</li></ul>\n",
    "        </li>\n",
    "    </ol>\n",
    "<p>Hompage: <a href=\"https://www.iniad.org\">https://www.iniad.org</a><br>\n",
    "Curriculum: <a href=\"https://www.iniad.org/en/curriculum\">https://www.iniad.org/en/curriculum</a></p>"
   ]
  },
  {
   "cell_type": "code",
   "execution_count": null,
   "metadata": {},
   "outputs": [],
   "source": []
  }
 ],
 "metadata": {
  "kernelspec": {
   "display_name": "Python 3",
   "language": "python",
   "name": "python3"
  },
  "language_info": {
   "codemirror_mode": {
    "name": "ipython",
    "version": 3
   },
   "file_extension": ".py",
   "mimetype": "text/x-python",
   "name": "python",
   "nbconvert_exporter": "python",
   "pygments_lexer": "ipython3",
   "version": "3.6.6"
  }
 },
 "nbformat": 4,
 "nbformat_minor": 2
}
