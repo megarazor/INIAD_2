{
 "cells": [
  {
   "cell_type": "code",
   "execution_count": 5,
   "metadata": {},
   "outputs": [],
   "source": [
    "import numpy as np\n",
    "import matplotlib.pyplot as plt\n",
    "from scipy.stats import pearsonr\n",
    "from sklearn.linear_model import LinearRegression\n",
    "from sklearn import metrics"
   ]
  },
  {
   "cell_type": "code",
   "execution_count": 2,
   "metadata": {},
   "outputs": [
    {
     "name": "stdout",
     "output_type": "stream",
     "text": [
      "(50, 2)\n"
     ]
    }
   ],
   "source": [
    "sepal=np.loadtxt('data/iris_sepal_cl0.csv', delimiter=',', skiprows=1)\n",
    "print( sepal.shape )"
   ]
  },
  {
   "cell_type": "code",
   "execution_count": 3,
   "metadata": {},
   "outputs": [
    {
     "name": "stdout",
     "output_type": "stream",
     "text": [
      "(50,)\n",
      "[5.1 4.9 4.7 4.6 5. ]\n",
      "(50,)\n",
      "[3.5 3.  3.2 3.1 3.6]\n"
     ]
    }
   ],
   "source": [
    "s_len=sepal[:, 0]\n",
    "s_width=sepal[:, 1]\n",
    "print( s_len.shape )\n",
    "print( s_len[0:5] )\n",
    "print( s_width.shape )\n",
    "print( s_width[0:5] )"
   ]
  },
  {
   "cell_type": "code",
   "execution_count": 4,
   "metadata": {},
   "outputs": [
    {
     "name": "stdout",
     "output_type": "stream",
     "text": [
      "相関係数: 0.7467803732639268\n",
      "p値: 4.751986580148956e-10\n"
     ]
    }
   ],
   "source": [
    "r, p=pearsonr(s_len, s_width)\n",
    "print(\"相関係数:\", r)\n",
    "print(\"p値:\", p)"
   ]
  },
  {
   "cell_type": "code",
   "execution_count": 6,
   "metadata": {},
   "outputs": [
    {
     "name": "stdout",
     "output_type": "stream",
     "text": [
      "(50, 1)\n"
     ]
    }
   ],
   "source": [
    "s_len_2d=sepal[:, :1]\n",
    "print( s_len_2d.shape )"
   ]
  },
  {
   "cell_type": "code",
   "execution_count": 7,
   "metadata": {},
   "outputs": [
    {
     "name": "stdout",
     "output_type": "stream",
     "text": [
      "[3.49387996 3.33243323 3.1709865  3.09026313 3.4131566  3.73605006\n",
      " 3.09026313 3.4131566  2.9288164  3.33243323 3.73605006 3.25170986\n",
      " 3.25170986 2.84809303 4.05894353 3.97822016 3.73605006 3.49387996\n",
      " 3.97822016 3.49387996 3.73605006 3.49387996 3.09026313 3.49387996\n",
      " 3.25170986 3.4131566  3.4131566  3.57460333 3.57460333 3.1709865\n",
      " 3.25170986 3.73605006 3.57460333 3.81677343 3.33243323 3.4131566\n",
      " 3.81677343 3.33243323 2.9288164  3.49387996 3.4131566  3.00953977\n",
      " 2.9288164  3.4131566  3.49387996 3.25170986 3.49387996 3.09026313\n",
      " 3.6553267  3.4131566 ]\n"
     ]
    }
   ],
   "source": [
    "reg=LinearRegression()\n",
    "reg.fit(s_len_2d, s_width)\n",
    "pred=reg.predict(s_len_2d)\n",
    "print(pred)"
   ]
  },
  {
   "cell_type": "code",
   "execution_count": 8,
   "metadata": {},
   "outputs": [
    {
     "name": "stdout",
     "output_type": "stream",
     "text": [
      "a: -0.623011727604216\n",
      "b: 0.807233665122696\n"
     ]
    }
   ],
   "source": [
    "a=reg.intercept_\n",
    "b=reg.coef_[0]\n",
    "print(\"a:\", a)\n",
    "print(\"b:\", b)"
   ]
  },
  {
   "cell_type": "code",
   "execution_count": 9,
   "metadata": {},
   "outputs": [
    {
     "name": "stdout",
     "output_type": "stream",
     "text": [
      "MSE: 0.06293138858775997\n",
      "R2: 0.5576809258922097\n"
     ]
    }
   ],
   "source": [
    "MSE=metrics.mean_squared_error(s_width, pred)\n",
    "R2=metrics.r2_score(s_width, pred)\n",
    "print(\"MSE:\", MSE)\n",
    "print(\"R2:\", R2)"
   ]
  },
  {
   "cell_type": "code",
   "execution_count": 10,
   "metadata": {},
   "outputs": [],
   "source": [
    "xmin=np.amin(s_len)\n",
    "xmax=np.amax(s_len)\n",
    "x=np.array([xmin, xmax])\n",
    "y=a+b*x"
   ]
  },
  {
   "cell_type": "code",
   "execution_count": 11,
   "metadata": {},
   "outputs": [
    {
     "data": {
      "image/png": "[encoded data removed]",
      "text/plain": [
       "<Figure size 432x288 with 1 Axes>"
      ]
     },
     "metadata": {
      "needs_background": "light"
     },
     "output_type": "display_data"
    }
   ],
   "source": [
    "lin_label=\"Y={0:.3f}+{1:.3f}*X\".format(a, b)\n",
    "plt.scatter(s_len, s_width, s=30)\n",
    "plt.plot(x, y, color='red', linewidth=2, label=lin_label)\n",
    "plt.xlabel('sepal_len [cm]')\n",
    "plt.ylabel('sepal_width [cm]')\n",
    "plt.legend()\n",
    "plt.show()"
   ]
  },
  {
   "cell_type": "code",
   "execution_count": null,
   "metadata": {},
   "outputs": [],
   "source": []
  }
 ],
 "metadata": {
  "kernelspec": {
   "display_name": "Python 3",
   "language": "python",
   "name": "python3"
  },
  "language_info": {
   "codemirror_mode": {
    "name": "ipython",
    "version": 3
   },
   "file_extension": ".py",
   "mimetype": "text/x-python",
   "name": "python",
   "nbconvert_exporter": "python",
   "pygments_lexer": "ipython3",
   "version": "3.6.6"
  }
 },
 "nbformat": 4,
 "nbformat_minor": 2
}
