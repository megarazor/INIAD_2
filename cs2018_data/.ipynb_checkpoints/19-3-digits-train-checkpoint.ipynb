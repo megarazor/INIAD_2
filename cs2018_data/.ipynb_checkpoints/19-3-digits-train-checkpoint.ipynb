{
 "cells": [
  {
   "cell_type": "markdown",
   "metadata": {},
   "source": [
    "### CNNの学習を行うノートブック"
   ]
  },
  {
   "cell_type": "markdown",
   "metadata": {},
   "source": [
    "ライブラリのimport"
   ]
  },
  {
   "cell_type": "code",
   "execution_count": 1,
   "metadata": {},
   "outputs": [
    {
     "name": "stderr",
     "output_type": "stream",
     "text": [
      "Using TensorFlow backend.\n"
     ]
    }
   ],
   "source": [
    "import os\n",
    "import numpy as np\n",
    "import matplotlib.pyplot as plt\n",
    "from keras.models import Sequential\n",
    "from keras.layers import Conv2D,MaxPooling2D\n",
    "from keras.layers import Activation,Dropout,Flatten,Dense\n",
    "from keras.utils import np_utils\n",
    "from keras.callbacks import EarlyStopping\n",
    "from keras.callbacks import CSVLogger\n",
    "from keras.datasets import mnist"
   ]
  },
  {
   "cell_type": "markdown",
   "metadata": {},
   "source": [
    "パラメータ設定（変更したらCellメニュー→Run All Belowを忘れないこと）"
   ]
  },
  {
   "cell_type": "code",
   "execution_count": 2,
   "metadata": {},
   "outputs": [],
   "source": [
    "w=28\n",
    "work_dir='data/digits'\n",
    "classes= list(range(10))\n",
    "num_classes=len(classes)\n",
    "\n",
    "weight_file=\"digits-weight-w{0}.hd5\".format(w)\n",
    "model_file=\"digits-model-w{0}.json\".format(w)\n",
    "history_file=\"digits-history-w{0}.csv\".format(w)"
   ]
  },
  {
   "cell_type": "markdown",
   "metadata": {},
   "source": [
    "train/testデータのnumpy配列ファイルからの読み込みとサイズの確認<br> \n",
    "Xは0-1(データ型はfloat16)、yはone-hot encodingにする"
   ]
  },
  {
   "cell_type": "code",
   "execution_count": 3,
   "metadata": {},
   "outputs": [
    {
     "name": "stdout",
     "output_type": "stream",
     "text": [
      "(60000, 28, 28) (60000,)\n",
      "(10000, 28, 28) (10000,)\n",
      "(4000, 28, 28, 1)\n",
      "(4000, 10)\n",
      "(800, 28, 28, 1)\n",
      "(800, 10)\n",
      "image_size: 28 28\n",
      "image_channels: 1\n"
     ]
    }
   ],
   "source": [
    "n_train= 4000\n",
    "n_test= 800\n",
    "(X_train_full, y_train_full), (X_test_full, y_test_full)= mnist.load_data()\n",
    "print(X_train_full.shape, y_train_full.shape)\n",
    "print(X_test_full.shape, y_test_full.shape)\n",
    "\n",
    "mode=\"train\"\n",
    "X_train=X_train_full[:n_train].astype(\"float16\").reshape(-1, w, w, 1)\n",
    "X_train/=255\n",
    "y_train=y_train_full[:n_train]\n",
    "y_train=np_utils.to_categorical(y_train,num_classes)\n",
    "\n",
    "mode=\"test\"\n",
    "X_test=X_test_full[:n_test].astype(\"float\").reshape(-1, w, w, 1)\n",
    "X_test/=255\n",
    "y_test=y_test_full[:n_test]\n",
    "y_test=np_utils.to_categorical(y_test,num_classes)\n",
    "\n",
    "print( X_train.shape )\n",
    "print( y_train.shape )\n",
    "print( X_test.shape )\n",
    "print( y_test.shape )\n",
    "img_rows=X_train.shape[1]\n",
    "img_cols=X_train.shape[2]\n",
    "img_channels=X_train.shape[3]\n",
    "print(\"image_size:\", img_rows, img_cols)\n",
    "print(\"image_channels:\", img_channels)"
   ]
  },
  {
   "cell_type": "markdown",
   "metadata": {},
   "source": [
    "CNNの構築"
   ]
  },
  {
   "cell_type": "code",
   "execution_count": 4,
   "metadata": {
    "scrolled": true
   },
   "outputs": [
    {
     "name": "stdout",
     "output_type": "stream",
     "text": [
      "_________________________________________________________________\n",
      "Layer (type)                 Output Shape              Param #   \n",
      "=================================================================\n",
      "conv2d_1 (Conv2D)            (None, 28, 28, 16)        160       \n",
      "_________________________________________________________________\n",
      "max_pooling2d_1 (MaxPooling2 (None, 14, 14, 16)        0         \n",
      "_________________________________________________________________\n",
      "dropout_1 (Dropout)          (None, 14, 14, 16)        0         \n",
      "_________________________________________________________________\n",
      "conv2d_2 (Conv2D)            (None, 14, 14, 16)        2320      \n",
      "_________________________________________________________________\n",
      "max_pooling2d_2 (MaxPooling2 (None, 7, 7, 16)          0         \n",
      "_________________________________________________________________\n",
      "dropout_2 (Dropout)          (None, 7, 7, 16)          0         \n",
      "_________________________________________________________________\n",
      "conv2d_3 (Conv2D)            (None, 7, 7, 32)          4640      \n",
      "_________________________________________________________________\n",
      "max_pooling2d_3 (MaxPooling2 (None, 3, 3, 32)          0         \n",
      "_________________________________________________________________\n",
      "dropout_3 (Dropout)          (None, 3, 3, 32)          0         \n",
      "_________________________________________________________________\n",
      "flatten_1 (Flatten)          (None, 288)               0         \n",
      "_________________________________________________________________\n",
      "dense_1 (Dense)              (None, 64)                18496     \n",
      "_________________________________________________________________\n",
      "dropout_4 (Dropout)          (None, 64)                0         \n",
      "_________________________________________________________________\n",
      "dense_2 (Dense)              (None, 10)                650       \n",
      "=================================================================\n",
      "Total params: 26,266\n",
      "Trainable params: 26,266\n",
      "Non-trainable params: 0\n",
      "_________________________________________________________________\n"
     ]
    }
   ],
   "source": [
    "input_shape=(img_rows,img_cols,img_channels)\n",
    "model=Sequential()\n",
    "model.add(Conv2D(16, (3,3), activation='relu', padding='same',\n",
    "                 input_shape=input_shape))\n",
    "model.add(MaxPooling2D(pool_size=(2,2)))\n",
    "model.add(Dropout(0.25))\n",
    "model.add(Conv2D(16, (3,3), activation='relu', padding='same'))\n",
    "model.add(MaxPooling2D(pool_size=(2,2)))\n",
    "model.add(Dropout(0.25))\n",
    "model.add(Conv2D(32, (3,3), activation='relu', padding='same'))\n",
    "model.add(MaxPooling2D(pool_size=(2,2)))\n",
    "model.add(Dropout(0.25))\n",
    "model.add(Flatten())\n",
    "model.add(Dense(64, activation='relu'))\n",
    "model.add(Dropout(0.25))\n",
    "model.add(Dense(num_classes, activation='softmax'))\n",
    "model.summary()"
   ]
  },
  {
   "cell_type": "markdown",
   "metadata": {},
   "source": [
    "CNNの学習"
   ]
  },
  {
   "cell_type": "code",
   "execution_count": 5,
   "metadata": {},
   "outputs": [
    {
     "name": "stdout",
     "output_type": "stream",
     "text": [
      "Train on 3200 samples, validate on 800 samples\n",
      "Epoch 1/40\n",
      "3200/3200 [==============================] - 5s 2ms/step - loss: 2.1821 - acc: 0.2272 - val_loss: 1.8433 - val_acc: 0.5038\n",
      "Epoch 2/40\n",
      "3200/3200 [==============================] - 2s 695us/step - loss: 1.6814 - acc: 0.4356 - val_loss: 1.1661 - val_acc: 0.7312\n",
      "Epoch 3/40\n",
      "3200/3200 [==============================] - 2s 686us/step - loss: 1.2444 - acc: 0.5781 - val_loss: 0.7711 - val_acc: 0.8163\n",
      "Epoch 4/40\n",
      "3200/3200 [==============================] - 2s 696us/step - loss: 0.9639 - acc: 0.6719 - val_loss: 0.5377 - val_acc: 0.8650\n",
      "Epoch 5/40\n",
      "3200/3200 [==============================] - 2s 676us/step - loss: 0.7441 - acc: 0.7550 - val_loss: 0.3971 - val_acc: 0.9050\n",
      "Epoch 6/40\n",
      "3200/3200 [==============================] - 2s 774us/step - loss: 0.6300 - acc: 0.7978 - val_loss: 0.3117 - val_acc: 0.9113\n",
      "Epoch 7/40\n",
      "3200/3200 [==============================] - 2s 772us/step - loss: 0.5417 - acc: 0.8225 - val_loss: 0.2535 - val_acc: 0.9375\n",
      "Epoch 8/40\n",
      "3200/3200 [==============================] - 2s 768us/step - loss: 0.4622 - acc: 0.8597 - val_loss: 0.2252 - val_acc: 0.9387\n",
      "Epoch 9/40\n",
      "3200/3200 [==============================] - 3s 868us/step - loss: 0.4391 - acc: 0.8600 - val_loss: 0.2189 - val_acc: 0.9437\n",
      "Epoch 10/40\n",
      "3200/3200 [==============================] - 3s 950us/step - loss: 0.3898 - acc: 0.8788 - val_loss: 0.1888 - val_acc: 0.9425\n",
      "Epoch 11/40\n",
      "3200/3200 [==============================] - 3s 1ms/step - loss: 0.3605 - acc: 0.8869 - val_loss: 0.1744 - val_acc: 0.9463\n",
      "Epoch 12/40\n",
      "3200/3200 [==============================] - 2s 694us/step - loss: 0.3288 - acc: 0.8997 - val_loss: 0.1843 - val_acc: 0.9463\n",
      "Epoch 13/40\n",
      "3200/3200 [==============================] - 2s 739us/step - loss: 0.3210 - acc: 0.9022 - val_loss: 0.1702 - val_acc: 0.9450\n",
      "Epoch 14/40\n",
      "3200/3200 [==============================] - 2s 663us/step - loss: 0.3207 - acc: 0.8925 - val_loss: 0.1425 - val_acc: 0.9563\n",
      "Epoch 15/40\n",
      "3200/3200 [==============================] - 2s 648us/step - loss: 0.2839 - acc: 0.9131 - val_loss: 0.1332 - val_acc: 0.9587\n",
      "Epoch 16/40\n",
      "3200/3200 [==============================] - 2s 653us/step - loss: 0.2706 - acc: 0.9172 - val_loss: 0.1366 - val_acc: 0.9550\n",
      "Epoch 17/40\n",
      "3200/3200 [==============================] - 2s 663us/step - loss: 0.2522 - acc: 0.9241 - val_loss: 0.1295 - val_acc: 0.9613\n",
      "Epoch 18/40\n",
      "3200/3200 [==============================] - 2s 659us/step - loss: 0.2359 - acc: 0.9213 - val_loss: 0.1197 - val_acc: 0.9625\n",
      "Epoch 19/40\n",
      "3200/3200 [==============================] - 2s 650us/step - loss: 0.2409 - acc: 0.9281 - val_loss: 0.1317 - val_acc: 0.9625\n",
      "Epoch 20/40\n",
      "3200/3200 [==============================] - 2s 659us/step - loss: 0.2308 - acc: 0.9284 - val_loss: 0.1143 - val_acc: 0.9675\n",
      "Epoch 21/40\n",
      "3200/3200 [==============================] - 2s 719us/step - loss: 0.2239 - acc: 0.9275 - val_loss: 0.1119 - val_acc: 0.9688\n",
      "Epoch 22/40\n",
      "3200/3200 [==============================] - 2s 656us/step - loss: 0.2113 - acc: 0.9325 - val_loss: 0.1078 - val_acc: 0.9663\n",
      "Epoch 23/40\n",
      "3200/3200 [==============================] - 2s 685us/step - loss: 0.1982 - acc: 0.9381 - val_loss: 0.1117 - val_acc: 0.9663\n",
      "Epoch 24/40\n",
      "3200/3200 [==============================] - 2s 660us/step - loss: 0.1969 - acc: 0.9375 - val_loss: 0.1258 - val_acc: 0.9625\n",
      "Epoch 25/40\n",
      "3200/3200 [==============================] - 2s 668us/step - loss: 0.1829 - acc: 0.9447 - val_loss: 0.1031 - val_acc: 0.9712\n",
      "Epoch 26/40\n",
      "3200/3200 [==============================] - 2s 705us/step - loss: 0.1919 - acc: 0.9394 - val_loss: 0.1101 - val_acc: 0.9688\n",
      "Epoch 27/40\n",
      "3200/3200 [==============================] - 3s 855us/step - loss: 0.1799 - acc: 0.9400 - val_loss: 0.0987 - val_acc: 0.9712\n",
      "Epoch 28/40\n",
      "3200/3200 [==============================] - 2s 650us/step - loss: 0.1577 - acc: 0.9506 - val_loss: 0.1007 - val_acc: 0.9712\n",
      "Epoch 29/40\n",
      "3200/3200 [==============================] - 2s 649us/step - loss: 0.1777 - acc: 0.9466 - val_loss: 0.1160 - val_acc: 0.9613\n",
      "Epoch 30/40\n",
      "3200/3200 [==============================] - 2s 679us/step - loss: 0.1578 - acc: 0.9513 - val_loss: 0.0965 - val_acc: 0.9675\n",
      "Epoch 31/40\n",
      "3200/3200 [==============================] - 2s 763us/step - loss: 0.1629 - acc: 0.9500 - val_loss: 0.0968 - val_acc: 0.9725\n",
      "Epoch 32/40\n",
      "3200/3200 [==============================] - 2s 704us/step - loss: 0.1455 - acc: 0.9541 - val_loss: 0.1012 - val_acc: 0.9688\n",
      "Epoch 33/40\n",
      "3200/3200 [==============================] - 2s 689us/step - loss: 0.1524 - acc: 0.9462 - val_loss: 0.1002 - val_acc: 0.9700\n",
      "Epoch 34/40\n",
      "3200/3200 [==============================] - 4s 1ms/step - loss: 0.1526 - acc: 0.9541 - val_loss: 0.0919 - val_acc: 0.9712\n",
      "Epoch 35/40\n",
      "3200/3200 [==============================] - 2s 771us/step - loss: 0.1508 - acc: 0.9541 - val_loss: 0.0957 - val_acc: 0.9712\n",
      "Epoch 36/40\n",
      "3200/3200 [==============================] - 2s 694us/step - loss: 0.1355 - acc: 0.9572 - val_loss: 0.1041 - val_acc: 0.9675\n",
      "Epoch 37/40\n",
      "3200/3200 [==============================] - 2s 690us/step - loss: 0.1453 - acc: 0.9544 - val_loss: 0.0943 - val_acc: 0.9775\n",
      "Epoch 38/40\n",
      "3200/3200 [==============================] - 2s 705us/step - loss: 0.1362 - acc: 0.9559 - val_loss: 0.0873 - val_acc: 0.9712\n",
      "Epoch 39/40\n",
      "3200/3200 [==============================] - 2s 704us/step - loss: 0.1319 - acc: 0.9553 - val_loss: 0.0838 - val_acc: 0.9775\n",
      "Epoch 40/40\n",
      "3200/3200 [==============================] - 2s 711us/step - loss: 0.1236 - acc: 0.9581 - val_loss: 0.0874 - val_acc: 0.9750\n",
      "Wall time: 1min 38s\n"
     ]
    }
   ],
   "source": [
    "%%time\n",
    "n_epochs=40\n",
    "val_split=0.2\n",
    "batch_size=128\n",
    "es=EarlyStopping(monitor='val_loss',patience=4,verbose=1)\n",
    "cl=CSVLogger(history_file)\n",
    "model.compile(loss='categorical_crossentropy', optimizer='rmsprop',\n",
    "              metrics=['accuracy'])\n",
    "#fit_log=model.fit(X_train, y_train, batch_size=batch_size,\n",
    "#                  epochs=n_epochs, validation_split=val_split,\n",
    "#                  callbacks=[cl, es])\n",
    "fit_log=model.fit(X_train, y_train, batch_size=batch_size,\n",
    "                  epochs=n_epochs, validation_split=val_split,\n",
    "                  callbacks=[cl])"
   ]
  },
  {
   "cell_type": "markdown",
   "metadata": {},
   "source": [
    "学習経過のグラフ描画"
   ]
  },
  {
   "cell_type": "code",
   "execution_count": 6,
   "metadata": {},
   "outputs": [
    {
     "data": {
      "image/png": "[encoded data removed]",
      "text/plain": [
       "<Figure size 432x288 with 1 Axes>"
      ]
     },
     "metadata": {
      "needs_background": "light"
     },
     "output_type": "display_data"
    },
    {
     "data": {
      "image/png": "[encoded data removed]",
      "text/plain": [
       "<Figure size 432x288 with 1 Axes>"
      ]
     },
     "metadata": {
      "needs_background": "light"
     },
     "output_type": "display_data"
    }
   ],
   "source": [
    "plt.plot(fit_log.history['loss'])\n",
    "plt.plot(fit_log.history['val_loss'])\n",
    "plt.title('Model Loss')\n",
    "plt.ylabel('Loss')\n",
    "plt.xlabel('Epoch')\n",
    "plt.legend(['train','valid'], loc='best')\n",
    "plt.show()\n",
    "\n",
    "plt.plot(fit_log.history['acc'])\n",
    "plt.plot(fit_log.history['val_acc'])\n",
    "plt.title('Model Accuracy')\n",
    "plt.ylabel('Accuracy')\n",
    "plt.xlabel('Epoch')\n",
    "plt.legend(['train','valid'], loc='best')\n",
    "plt.show()"
   ]
  },
  {
   "cell_type": "markdown",
   "metadata": {},
   "source": [
    "学習経過のグラフ描画（このようにhistory_fileから読み出すこともできる）"
   ]
  },
  {
   "cell_type": "code",
   "execution_count": 7,
   "metadata": {},
   "outputs": [
    {
     "data": {
      "image/png": "[encoded data removed]",
      "text/plain": [
       "<Figure size 432x288 with 1 Axes>"
      ]
     },
     "metadata": {
      "needs_background": "light"
     },
     "output_type": "display_data"
    },
    {
     "data": {
      "image/png": "[encoded data removed]",
      "text/plain": [
       "<Figure size 432x288 with 1 Axes>"
      ]
     },
     "metadata": {
      "needs_background": "light"
     },
     "output_type": "display_data"
    }
   ],
   "source": [
    "h=np.loadtxt(history_file,delimiter=',',skiprows=1)\n",
    "epoch=h[:,0]\n",
    "acc=h[:,1]\n",
    "loss=h[:,2]\n",
    "val_acc=h[:,3]\n",
    "val_loss=h[:,4]\n",
    "\n",
    "plt.plot(epoch,loss)\n",
    "plt.plot(epoch,val_loss)\n",
    "plt.title('Model Loss')\n",
    "plt.ylabel('Loss')\n",
    "plt.xlabel('Epoch')\n",
    "plt.legend(['train','valid'], loc='best')\n",
    "plt.show()\n",
    "\n",
    "plt.plot(epoch,acc)\n",
    "plt.plot(epoch,val_acc)\n",
    "plt.title('Model Accuracy')\n",
    "plt.ylabel('Accuracy')\n",
    "plt.xlabel('Epoch')\n",
    "plt.legend(['train','valid'], loc='best')\n",
    "plt.show()"
   ]
  },
  {
   "cell_type": "markdown",
   "metadata": {},
   "source": [
    "テストデータに対する精度(汎化性能の見積もり)"
   ]
  },
  {
   "cell_type": "code",
   "execution_count": 8,
   "metadata": {},
   "outputs": [
    {
     "name": "stdout",
     "output_type": "stream",
     "text": [
      "loss= 0.08611180700361729\n",
      "accuracy= 0.975\n"
     ]
    }
   ],
   "source": [
    "score=model.evaluate(X_test, y_test, verbose=0)\n",
    "print('loss=', score[0])\n",
    "print('accuracy=', score[1])"
   ]
  },
  {
   "cell_type": "markdown",
   "metadata": {},
   "source": [
    "modelファイルの保存"
   ]
  },
  {
   "cell_type": "code",
   "execution_count": 9,
   "metadata": {},
   "outputs": [
    {
     "name": "stdout",
     "output_type": "stream",
     "text": [
      "OK\n"
     ]
    }
   ],
   "source": [
    "model.save_weights(weight_file)\n",
    "json_str=model.to_json()\n",
    "with open(model_file,\"w\") as f:\n",
    "    f.write(json_str)\n",
    "\n",
    "ok=1\n",
    "if not os.path.exists(weight_file):\n",
    "    ok=0\n",
    "if not os.path.exists(model_file):\n",
    "    ok=0\n",
    "if ok==1:\n",
    "    print(\"OK\")"
   ]
  },
  {
   "cell_type": "code",
   "execution_count": null,
   "metadata": {},
   "outputs": [],
   "source": []
  }
 ],
 "metadata": {
  "kernelspec": {
   "display_name": "Python 3",
   "language": "python",
   "name": "python3"
  },
  "language_info": {
   "codemirror_mode": {
    "name": "ipython",
    "version": 3
   },
   "file_extension": ".py",
   "mimetype": "text/x-python",
   "name": "python",
   "nbconvert_exporter": "python",
   "pygments_lexer": "ipython3",
   "version": "3.6.6"
  }
 },
 "nbformat": 4,
 "nbformat_minor": 2
}
