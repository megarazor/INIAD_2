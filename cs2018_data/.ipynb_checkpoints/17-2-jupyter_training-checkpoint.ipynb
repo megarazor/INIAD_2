{
 "cells": [
  {
   "cell_type": "markdown",
   "metadata": {},
   "source": [
    "Importing libraries"
   ]
  },
  {
   "cell_type": "code",
   "execution_count": 1,
   "metadata": {},
   "outputs": [],
   "source": [
    "import numpy as np"
   ]
  },
  {
   "cell_type": "code",
   "execution_count": 2,
   "metadata": {},
   "outputs": [],
   "source": [
    "import matplotlib.pyplot as plt"
   ]
  },
  {
   "cell_type": "markdown",
   "metadata": {},
   "source": [
    "Examples of list"
   ]
  },
  {
   "cell_type": "code",
   "execution_count": 3,
   "metadata": {},
   "outputs": [
    {
     "name": "stdout",
     "output_type": "stream",
     "text": [
      "<class 'list'>\n",
      "[0.0, 1.0, 2.0, 0.0, 1.0, 2.0]\n",
      "[0.0, 1.0, 2.0, 3.0, 4.0, 5.0]\n"
     ]
    }
   ],
   "source": [
    "a = [ 0.0, 1.0, 2.0 ]\n",
    "b = [ 3.0, 4.0, 5.0 ]\n",
    "print( type(a) )\n",
    "print( a * 2 )\n",
    "print( a + b )\n"
   ]
  },
  {
   "cell_type": "markdown",
   "metadata": {},
   "source": [
    "Examples of ndarray(1d)"
   ]
  },
  {
   "cell_type": "code",
   "execution_count": 4,
   "metadata": {},
   "outputs": [
    {
     "name": "stdout",
     "output_type": "stream",
     "text": [
      "<class 'numpy.ndarray'>\n",
      "[0. 2. 4.]\n",
      "[3. 5. 7.]\n",
      "[ 0.  4. 10.]\n",
      "5.0\n",
      "[ 3.   4.  99.9]\n"
     ]
    }
   ],
   "source": [
    "a = np.array( [ 0.0, 1.0, 2.0 ] )\n",
    "b = np.array( [ 3.0, 4.0, 5.0 ] )\n",
    "print( type(a) )\n",
    "print( a * 2 )\n",
    "print( a + b )\n",
    "print( a * b )\n",
    "print( b[2] )\n",
    "b[2] = 99.9\n",
    "print( b )"
   ]
  },
  {
   "cell_type": "code",
   "execution_count": 5,
   "metadata": {},
   "outputs": [
    {
     "data": {
      "text/plain": [
       "array([0., 1., 2.])"
      ]
     },
     "execution_count": 5,
     "metadata": {},
     "output_type": "execute_result"
    }
   ],
   "source": [
    "a"
   ]
  },
  {
   "cell_type": "markdown",
   "metadata": {},
   "source": [
    "Checking the properties of array"
   ]
  },
  {
   "cell_type": "code",
   "execution_count": 6,
   "metadata": {},
   "outputs": [
    {
     "name": "stdout",
     "output_type": "stream",
     "text": [
      "1\n",
      "(3,)\n",
      "3\n"
     ]
    }
   ],
   "source": [
    "print( a.ndim )\n",
    "print( a.shape )\n",
    "print( a.shape[0] )"
   ]
  },
  {
   "cell_type": "code",
   "execution_count": 7,
   "metadata": {
    "scrolled": true
   },
   "outputs": [
    {
     "ename": "SyntaxError",
     "evalue": "invalid syntax (<ipython-input-7-e12182dbfe8d>, line 1)",
     "output_type": "error",
     "traceback": [
      "\u001b[1;36m  File \u001b[1;32m\"<ipython-input-7-e12182dbfe8d>\"\u001b[1;36m, line \u001b[1;32m1\u001b[0m\n\u001b[1;33m    Examples of ndarray(2d)\u001b[0m\n\u001b[1;37m              ^\u001b[0m\n\u001b[1;31mSyntaxError\u001b[0m\u001b[1;31m:\u001b[0m invalid syntax\n"
     ]
    }
   ],
   "source": [
    "Examples of ndarray(2d)"
   ]
  },
  {
   "cell_type": "markdown",
   "metadata": {},
   "source": [
    "Examples of ndarray(2d)"
   ]
  },
  {
   "cell_type": "code",
   "execution_count": null,
   "metadata": {},
   "outputs": [],
   "source": [
    "c = np.array( [ [ 0.0, 1.0, 2.0 ], [ 3.0, 4.0, 5.0 ] ] )\n",
    "print( c )\n",
    "print( type(c) )"
   ]
  },
  {
   "cell_type": "code",
   "execution_count": null,
   "metadata": {},
   "outputs": [],
   "source": [
    "print( c.ndim )\n",
    "print( c.shape )\n",
    "print( c.shape[0] )\n",
    "print( c.shape[1] )"
   ]
  },
  {
   "cell_type": "markdown",
   "metadata": {},
   "source": [
    "Modifying array c"
   ]
  },
  {
   "cell_type": "code",
   "execution_count": null,
   "metadata": {},
   "outputs": [],
   "source": [
    "print( c + 10.0 )\n",
    "print( c * 10.0 )\n",
    "print( c + a )\n",
    "print( c * a )\n",
    "print( c[1][2] )\n",
    "c[1][2] = 99.9\n",
    "print( c )"
   ]
  },
  {
   "cell_type": "code",
   "execution_count": null,
   "metadata": {},
   "outputs": [],
   "source": [
    "import numpy as np\n",
    "\n",
    "data = np.array(range(2,9))\n",
    "s = np.sum(data[::-1] + data)\n",
    "print(\"Summation: {}\".format(s))"
   ]
  },
  {
   "cell_type": "code",
   "execution_count": 8,
   "metadata": {},
   "outputs": [
    {
     "name": "stdout",
     "output_type": "stream",
     "text": [
      "(50,)\n",
      "[ 0.92370786 -1.50626553 -0.55152884  0.71932808 -1.28377573  2.42440826\n",
      " -0.22587131 -0.27030513 -2.03363043 -0.73828717 -0.57551415  0.34930314\n",
      " -0.72653344 -1.17002256 -0.59916554 -1.2070901  -0.07376157 -1.48412865\n",
      "  0.33796465  1.62526703  1.23747894  0.86161912 -0.02267089  0.15343123\n",
      " -0.44092078  0.47719384 -3.62226334 -1.57852676  3.07081178 -1.99863839\n",
      "  0.80636335 -0.1036234  -1.33839979  0.52547255  0.10573908  1.05448824\n",
      " -0.39801894 -0.07162773  0.42968433  0.17382849  2.29510624 -1.86914841\n",
      "  1.22012143  2.09422768  0.46908712  0.57393086  1.67901011 -0.44637162\n",
      "  0.47400535  0.59307955]\n",
      "min:  -3.62226334\n",
      "max:  3.07081178\n",
      "average:  0.0067713622\n",
      "median:  0.041534095\n",
      "variance:  1.6033728577619586\n",
      "standard dev:  1.2662436012718716\n",
      "sum:  0.33856811\n"
     ]
    }
   ],
   "source": [
    "import  numpy  as  np\n",
    "\n",
    "dat1=np.loadtxt( 'data/rand1d.csv' )\n",
    "\n",
    "print( dat1.shape )\n",
    "print( dat1 )\n",
    "\n",
    "print('min: ', np.amin(dat1))\n",
    "print('max: ', np.amax(dat1))\n",
    "print('average: ', np.mean(dat1))\n",
    "print('median: ', np.median(dat1))\n",
    "print('variance: ', np.var(dat1))\n",
    "print('standard dev: ', np.std(dat1))\n",
    "print('sum: ', np.sum(dat1))"
   ]
  },
  {
   "cell_type": "code",
   "execution_count": 9,
   "metadata": {},
   "outputs": [
    {
     "name": "stdout",
     "output_type": "stream",
     "text": [
      "Range: 6.69307512\n"
     ]
    }
   ],
   "source": [
    "print('Range:', np.ptp(dat1))"
   ]
  },
  {
   "cell_type": "code",
   "execution_count": null,
   "metadata": {},
   "outputs": [],
   "source": []
  }
 ],
 "metadata": {
  "kernelspec": {
   "display_name": "Python 3",
   "language": "python",
   "name": "python3"
  },
  "language_info": {
   "codemirror_mode": {
    "name": "ipython",
    "version": 3
   },
   "file_extension": ".py",
   "mimetype": "text/x-python",
   "name": "python",
   "nbconvert_exporter": "python",
   "pygments_lexer": "ipython3",
   "version": "3.6.6"
  }
 },
 "nbformat": 4,
 "nbformat_minor": 2
}
