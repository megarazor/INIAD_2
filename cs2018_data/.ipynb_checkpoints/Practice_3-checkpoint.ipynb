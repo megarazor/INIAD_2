{
 "cells": [
  {
   "cell_type": "code",
   "execution_count": 5,
   "metadata": {},
   "outputs": [
    {
     "data": {
      "text/plain": [
       "[1, 2, 3, 4, 5]"
      ]
     },
     "execution_count": 5,
     "metadata": {},
     "output_type": "execute_result"
    }
   ],
   "source": [
    "def ssort(lst):\n",
    "    for i in range(len(lst) - 1):\n",
    "        min= lst[i]\n",
    "        minpos= i\n",
    "        for j in range(i + 1, len(lst)):\n",
    "            if lst[j]<min:\n",
    "                min= lst[j]\n",
    "                minpos= j\n",
    "        if i!=minpos:\n",
    "            tmp= lst[i]\n",
    "            lst[i]= min\n",
    "            lst[minpos]= tmp\n",
    "    return lst\n",
    "\n",
    "ssort([1, 5, 3, 2, 4])"
   ]
  },
  {
   "cell_type": "code",
   "execution_count": 6,
   "metadata": {},
   "outputs": [
    {
     "data": {
      "text/plain": [
       "[1, 2, 3, 4, 5]"
      ]
     },
     "execution_count": 6,
     "metadata": {},
     "output_type": "execute_result"
    }
   ],
   "source": [
    "def qsort(lst):\n",
    "    if len(lst)<=1:\n",
    "        return lst\n",
    "    pivot= lst[0]\n",
    "    lst1= [item for item in lst if item<pivot]\n",
    "    lst2= [item for item in lst if item>pivot]\n",
    "    return qsort(lst1) + [pivot] + qsort(lst2)\n",
    "\n",
    "qsort([1, 5, 3, 2, 4])"
   ]
  },
  {
   "cell_type": "code",
   "execution_count": 7,
   "metadata": {},
   "outputs": [],
   "source": [
    "import random\n",
    "\n",
    "def setup_lst(x):\n",
    "    lst= random.sample(range(x*2), k= x)\n",
    "    return lst\n",
    "\n",
    "def setup_lst_sorted(x):\n",
    "    lst= sorted(random.sample(range(x*2), k= x))\n",
    "    return lst"
   ]
  },
  {
   "cell_type": "code",
   "execution_count": 9,
   "metadata": {},
   "outputs": [
    {
     "ename": "SyntaxError",
     "evalue": "positional argument follows keyword argument (<ipython-input-9-22e95256d157>, line 21)",
     "output_type": "error",
     "traceback": [
      "\u001b[1;36m  File \u001b[1;32m\"<ipython-input-9-22e95256d157>\"\u001b[1;36m, line \u001b[1;32m21\u001b[0m\n\u001b[1;33m    plt.plot(xs, ys, color= 'red', label= 'Unsorted list', 'o')\u001b[0m\n\u001b[1;37m                                                          ^\u001b[0m\n\u001b[1;31mSyntaxError\u001b[0m\u001b[1;31m:\u001b[0m positional argument follows keyword argument\n"
     ]
    }
   ],
   "source": [
    "import timeit\n",
    "import matplotlib.pyplot as plt\n",
    "\n",
    "n= 1\n",
    "r= 1000\n",
    "\n",
    "xs= range(20, 500, 20)\n",
    "ys= []\n",
    "\n",
    "xs2= range(20, 500, 20)\n",
    "ys2= []\n",
    "\n",
    "for x in xs:\n",
    "    time= timeit.repeat('ssort(lst)', setup='lst= setup_lst(x)', globals= globals(), repeat= r, number= n)\n",
    "    ys.append(sum(time) / (n*r))\n",
    "    \n",
    "for x in xs2:\n",
    "    time= timeit.repeat('ssort(lst)', setup='lst= setup_lst_sorted(x)', globals= globals(), repeat= r, number= n)\n",
    "    ys2.append(sum(time) / (n*r))\n",
    "    \n",
    "plt.plot(xs, ys, 'o', color= 'red', label= 'Unsorted list')\n",
    "plt.plot(xs2, ys2, 'o', color= 'blue', label= 'Sorted list')\n",
    "plt.ylim(0, max(ys)*1.1)\n",
    "plt.xlabel('Length of list', fontsize= 9)\n",
    "plt.ylabel('Average time (s)', fontsize= 9)\n",
    "plt.show()"
   ]
  },
  {
   "cell_type": "code",
   "execution_count": null,
   "metadata": {},
   "outputs": [],
   "source": []
  }
 ],
 "metadata": {
  "kernelspec": {
   "display_name": "Python 3",
   "language": "python",
   "name": "python3"
  },
  "language_info": {
   "codemirror_mode": {
    "name": "ipython",
    "version": 3
   },
   "file_extension": ".py",
   "mimetype": "text/x-python",
   "name": "python",
   "nbconvert_exporter": "python",
   "pygments_lexer": "ipython3",
   "version": "3.6.6"
  }
 },
 "nbformat": 4,
 "nbformat_minor": 2
}
