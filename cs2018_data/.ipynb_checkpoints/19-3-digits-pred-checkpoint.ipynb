{
 "cells": [
  {
   "cell_type": "markdown",
   "metadata": {},
   "source": [
    "### 手持ち画像ファイルに対する予測を行うノートブック"
   ]
  },
  {
   "cell_type": "markdown",
   "metadata": {},
   "source": [
    "ライブラリのimport"
   ]
  },
  {
   "cell_type": "code",
   "execution_count": 1,
   "metadata": {},
   "outputs": [
    {
     "name": "stderr",
     "output_type": "stream",
     "text": [
      "Using TensorFlow backend.\n"
     ]
    }
   ],
   "source": [
    "import os,glob\n",
    "from PIL import Image\n",
    "import numpy as np\n",
    "from keras.utils import np_utils\n",
    "from keras.models import model_from_json"
   ]
  },
  {
   "cell_type": "markdown",
   "metadata": {},
   "source": [
    "パラメータ設定（変更したらCellメニュー→Run All Belowを忘れないこと）"
   ]
  },
  {
   "cell_type": "code",
   "execution_count": 2,
   "metadata": {},
   "outputs": [],
   "source": [
    "w=28\n",
    "work_dir=\"data/digits\"\n",
    "image_dir=work_dir+\"/original/unknown\"\n",
    "pred_dir=work_dir+\"/predicted\"\n",
    "results_base='digits-results'\n",
    "weight_file=\"digits-weight-w{0}.hd5\".format(w)\n",
    "model_file=\"digits-model-w{0}.json\".format(w)\n",
    "classes=list(range(10))\n",
    "num_classes=len(classes)"
   ]
  },
  {
   "cell_type": "markdown",
   "metadata": {},
   "source": [
    "modelファイルの読み込み"
   ]
  },
  {
   "cell_type": "code",
   "execution_count": 3,
   "metadata": {},
   "outputs": [],
   "source": [
    "json_str=open(model_file,\"r\").read()\n",
    "model=model_from_json(json_str)\n",
    "model.compile(loss='categorical_crossentropy',optimizer='rmsprop',metrics=['accuracy'])\n",
    "model.load_weights(weight_file)"
   ]
  },
  {
   "cell_type": "markdown",
   "metadata": {},
   "source": [
    "ファイルひとつずつに対して予測を行う"
   ]
  },
  {
   "cell_type": "code",
   "execution_count": 4,
   "metadata": {},
   "outputs": [
    {
     "name": "stdout",
     "output_type": "stream",
     "text": [
      "data/digits/predicted/0.pred_as_0-w28.jpg [[9.9989188e-01 8.1627498e-08 5.8911525e-07 1.1449715e-07 4.7693973e-08\n",
      "  8.7826987e-07 5.0762832e-05 1.6956159e-06 2.4743260e-06 5.1532588e-05]]\n",
      "data/digits/predicted/1.pred_as_1-w28.jpg [[1.6273023e-05 8.6168247e-01 2.1368731e-05 1.6440399e-07 1.2661205e-01\n",
      "  1.3579365e-06 1.0964893e-02 2.2256964e-04 2.4866001e-04 2.3022022e-04]]\n",
      "data/digits/predicted/2.pred_as_2-w28.jpg [[7.9909479e-04 1.4360205e-04 9.9465227e-01 5.5811560e-04 1.1407804e-07\n",
      "  1.4758615e-07 2.2105918e-07 1.7712239e-06 3.8446456e-03 4.4276732e-08]]\n",
      "data/digits/predicted/3.pred_as_3-w28.jpg [[3.1994823e-08 3.2105458e-05 3.6826134e-06 9.9929130e-01 5.1023176e-07\n",
      "  6.6553435e-04 2.7822090e-08 1.1752638e-06 4.1092176e-07 5.1934162e-06]]\n",
      "data/digits/predicted/4.pred_as_4-w28.jpg [[2.2624902e-06 1.8539375e-05 2.4224355e-05 1.3612497e-07 9.9903524e-01\n",
      "  1.0577908e-06 8.6928230e-05 6.8960144e-05 5.0960409e-07 7.6218013e-04]]\n",
      "data/digits/predicted/5.pred_as_5-w28.jpg [[9.0080420e-07 1.0771262e-03 9.3104309e-06 1.6412088e-03 8.9958266e-05\n",
      "  8.7573218e-01 1.9250403e-05 1.6704638e-02 2.3368830e-02 8.1356719e-02]]\n",
      "data/digits/predicted/6.pred_as_6-w28.jpg [[6.2637770e-04 4.0119414e-07 9.9168237e-06 3.3051426e-06 6.3877872e-07\n",
      "  6.1693195e-02 9.3535846e-01 1.2241110e-09 2.2684999e-03 3.9135335e-05]]\n",
      "data/digits/predicted/7.pred_as_7-w28.jpg [[1.18512915e-08 3.21283442e-05 9.05622379e-04 5.95735801e-05\n",
      "  4.34663860e-08 1.63664447e-11 9.68336874e-14 9.99001801e-01\n",
      "  5.23314618e-08 8.87245903e-07]]\n",
      "data/digits/predicted/8.pred_as_6-w28.jpg [[3.8404889e-02 2.4583760e-05 1.9428631e-05 1.2567321e-05 2.1090818e-04\n",
      "  5.0728890e-04 9.3932152e-01 2.9453297e-08 2.1495936e-02 2.9214561e-06]]\n",
      "data/digits/predicted/9.pred_as_3-w28.jpg [[4.9587459e-08 6.9755927e-04 3.3284532e-04 9.8494983e-01 1.1371634e-03\n",
      "  1.1585329e-03 3.1988575e-06 1.4358321e-04 1.1519028e-04 1.1462091e-02]]\n",
      "OK\n"
     ]
    }
   ],
   "source": [
    "#結果保存用ファイルを開く\n",
    "results_file='{0}-w{1}.csv'.format(results_base,w)\n",
    "res=open(results_file,'w')\n",
    "res.write(\"file,{0},{1}\\n\".format(classes[0],classes[1]))\n",
    "\n",
    "#出力用ディレクトリを空にする\n",
    "files=glob.glob(pred_dir+\"/*.*\")\n",
    "for f in files:\n",
    "    os.remove(f)\n",
    "\n",
    "#ファイルひとつずつに対して予測\n",
    "files=glob.glob(image_dir+\"/*.*\")\n",
    "for f in files:\n",
    "    #画像データの読み込み\n",
    "    img=Image.open(f)\n",
    "    img=img.convert(\"L\")\n",
    "    img=img.resize((w,w))\n",
    "    #4次元のnumpy配列にreshape\n",
    "    X=np.array(img).reshape(1,w,w,1).astype(\"float16\")\n",
    "    X_pred=X/255\n",
    "    #分類予測\n",
    "    pred=model.predict(X_pred)\n",
    "    #画像をpred_dirに出力\n",
    "    pred_ans=pred.argmax()\n",
    "    pred_cls=classes[pred_ans]\n",
    "    tag=\"pred_as_{0}-w{1}\".format(pred_cls,w)\n",
    "    base=os.path.basename(f)\n",
    "    img_file=\"{0}/{1}.{2}.jpg\".format(pred_dir,os.path.splitext(base)[0],tag)\n",
    "    img.save(img_file)\n",
    "    print(img_file,pred)\n",
    "    res.write(\"{0},{1},{2}\\n\".format(f,pred[0][0],pred[0][1]))\n",
    "\n",
    "#結果保存用ファイルを閉じる\n",
    "res.close()\n",
    "\n",
    "print(\"OK\")"
   ]
  },
  {
   "cell_type": "code",
   "execution_count": null,
   "metadata": {},
   "outputs": [],
   "source": []
  }
 ],
 "metadata": {
  "kernelspec": {
   "display_name": "Python 3",
   "language": "python",
   "name": "python3"
  },
  "language_info": {
   "codemirror_mode": {
    "name": "ipython",
    "version": 3
   },
   "file_extension": ".py",
   "mimetype": "text/x-python",
   "name": "python",
   "nbconvert_exporter": "python",
   "pygments_lexer": "ipython3",
   "version": "3.6.6"
  }
 },
 "nbformat": 4,
 "nbformat_minor": 2
}
