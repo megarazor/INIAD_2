{
 "cells": [
  {
   "cell_type": "code",
   "execution_count": 1,
   "metadata": {},
   "outputs": [
    {
     "name": "stdout",
     "output_type": "stream",
     "text": [
      "(50, 2)\n",
      "(50,)\n",
      "[4.7 4.5 4.9 4.  4.6]\n",
      "(50,)\n",
      "[1.4 1.5 1.5 1.3 1.5]\n",
      "Correlation coefficient: 0.7866680885228168\n",
      "p-value: 1.2719157063236543e-11\n",
      "(50, 1)\n",
      "Estimated petal width when petal length is 3.8:  1.1737153419593342\n",
      "Difference between Estimated value and True value:  -0.1262846580406658\n",
      "a: -0.08428835489833686\n",
      "b: 0.3310536044362293\n"
     ]
    }
   ],
   "source": [
    "import numpy as np\n",
    "import matplotlib.pyplot as plt\n",
    "from scipy.stats import pearsonr\n",
    "from sklearn.linear_model import LinearRegression\n",
    "from sklearn import metrics\n",
    "\n",
    "petal=np.loadtxt('data/iris_petal_cl1.csv', delimiter=',', skiprows=1)\n",
    "print(petal.shape)\n",
    "\n",
    "p_len=petal[:, 0]\n",
    "p_width=petal[:, 1]\n",
    "print( p_len.shape )\n",
    "print( p_len[0:5] )\n",
    "print( p_width.shape )\n",
    "print( p_width[0:5] )\n",
    "\n",
    "r, p=pearsonr(p_len, p_width)\n",
    "print(\"Correlation coefficient:\", r)\n",
    "print(\"p-value:\", p)\n",
    "\n",
    "p_len_2d=petal[:, :1]\n",
    "print( p_len_2d.shape )\n",
    "\n",
    "reg=LinearRegression()\n",
    "reg.fit(p_len_2d, p_width)\n",
    "pred=reg.predict(3.8)\n",
    "print(\"Estimated petal width when petal length is 3.8: \", pred[0])\n",
    "for i in range(len(p_len)):\n",
    "    if p_len[i]==3.8:\n",
    "        pos= i\n",
    "p_width_value= p_width[i]    \n",
    "print(\"Difference between Estimated value and True value: \", pred[0] - p_width_value)\n",
    "\n",
    "a=reg.intercept_\n",
    "b=reg.coef_[0]\n",
    "print(\"a:\", a)\n",
    "print(\"b:\", b)"
   ]
  },
  {
   "cell_type": "code",
   "execution_count": null,
   "metadata": {},
   "outputs": [],
   "source": []
  }
 ],
 "metadata": {
  "kernelspec": {
   "display_name": "Python 3",
   "language": "python",
   "name": "python3"
  },
  "language_info": {
   "codemirror_mode": {
    "name": "ipython",
    "version": 3
   },
   "file_extension": ".py",
   "mimetype": "text/x-python",
   "name": "python",
   "nbconvert_exporter": "python",
   "pygments_lexer": "ipython3",
   "version": "3.6.6"
  }
 },
 "nbformat": 4,
 "nbformat_minor": 2
}
