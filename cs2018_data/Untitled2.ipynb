{
 "cells": [
  {
   "cell_type": "code",
   "execution_count": 1,
   "metadata": {},
   "outputs": [],
   "source": [
    "def selection_sort(lst):\n",
    "    for i in range(len(lst) - 1):\n",
    "        min = lst[i]\n",
    "        minpos = i\n",
    "        for j in range(i + 1, len(lst)):\n",
    "            if lst[j] < min:\n",
    "                min = lst[j]\n",
    "                minpos = j\n",
    "        if i != minpos:\n",
    "            tmp = lst[i]\n",
    "            lst[i] = min\n",
    "            lst[minpos]=tmp\n",
    "    return lst\n",
    "def quick_sort(lst):\n",
    "    if len(lst) <= 1:\n",
    "        return lst\n",
    "    pivot = lst[0]\n",
    "    lst1 = [item for item in lst if item < pivot]\n",
    "    lst2 = [item for item in lst if item > pivot]\n",
    "    return quick_sort(lst1) + [pivot] + quick_sort(lst2)\n",
    "import random"
   ]
  },
  {
   "cell_type": "code",
   "execution_count": 2,
   "metadata": {},
   "outputs": [
    {
     "name": "stdout",
     "output_type": "stream",
     "text": [
      "Wall time: 33.9 ms\n"
     ]
    }
   ],
   "source": [
    "%%time\n",
    "lst = random.sample(range(10000), k=1000)\n",
    "selection_sort(lst)"
   ]
  },
  {
   "cell_type": "code",
   "execution_count": 3,
   "metadata": {},
   "outputs": [
    {
     "name": "stdout",
     "output_type": "stream",
     "text": [
      "Wall time: 3.99 ms\n"
     ]
    }
   ],
   "source": [
    "%%time\n",
    "lst = random.sample(range(10000), k=1000)\n",
    "quick_sort(lst)"
   ]
  },
  {
   "cell_type": "code",
   "execution_count": 4,
   "metadata": {},
   "outputs": [],
   "source": [
    "def selection_sort(lst):\n",
    "    for i in range(len(lst) - 1):\n",
    "        min = lst[i]\n",
    "        minpos = i\n",
    "        for j in range(i + 1, len(lst)):\n",
    "            if lst[j] < min:\n",
    "                min = lst[j]\n",
    "                minpos = j\n",
    "        if i != minpos:\n",
    "            tmp = lst[i]\n",
    "            lst[i] = min\n",
    "            lst[minpos]=tmp\n",
    "    return lst\n",
    "def quick_sort(lst):\n",
    "    if len(lst) <= 1:\n",
    "        return lst\n",
    "    pivot = lst[0]\n",
    "    lst1 = [item for item in lst if item < pivot]\n",
    "    lst2 = [item for item in lst if item > pivot]\n",
    "    return quick_sort(lst1) + [pivot] + quick_sort(lst2)\n",
    "import random"
   ]
  },
  {
   "cell_type": "code",
   "execution_count": 5,
   "metadata": {},
   "outputs": [
    {
     "name": "stdout",
     "output_type": "stream",
     "text": [
      "Wall time: 34.9 ms\n"
     ]
    }
   ],
   "source": [
    "%%time \n",
    "lst = list(range(1000))\n",
    "selection_sort(lst)"
   ]
  },
  {
   "cell_type": "code",
   "execution_count": 6,
   "metadata": {},
   "outputs": [
    {
     "name": "stdout",
     "output_type": "stream",
     "text": [
      "Wall time: 54.9 ms\n"
     ]
    }
   ],
   "source": [
    "%%time \n",
    "lst = list(range(1000))\n",
    "quick_sort(lst)"
   ]
  },
  {
   "cell_type": "code",
   "execution_count": null,
   "metadata": {},
   "outputs": [],
   "source": []
  }
 ],
 "metadata": {
  "kernelspec": {
   "display_name": "Python 3",
   "language": "python",
   "name": "python3"
  },
  "language_info": {
   "codemirror_mode": {
    "name": "ipython",
    "version": 3
   },
   "file_extension": ".py",
   "mimetype": "text/x-python",
   "name": "python",
   "nbconvert_exporter": "python",
   "pygments_lexer": "ipython3",
   "version": "3.6.6"
  }
 },
 "nbformat": 4,
 "nbformat_minor": 2
}
