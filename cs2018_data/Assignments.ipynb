{
 "cells": [
  {
   "cell_type": "code",
   "execution_count": 5,
   "metadata": {},
   "outputs": [
    {
     "name": "stdout",
     "output_type": "stream",
     "text": [
      "Cluster: size\n",
      "  0: 58\n",
      "  1: 95\n",
      "  2: 11\n",
      "  3: 276\n",
      "  total: 440\n"
     ]
    }
   ],
   "source": [
    "import numpy as np\n",
    "import matplotlib.pyplot as plt\n",
    "from sklearn.cluster import KMeans\n",
    "\n",
    "wsc= np.loadtxt('data/Wholesale_customers_data.csv', delimiter=',', skiprows=1)\n",
    "channel= wsc[:, 0]\n",
    "region= wsc[:, 1]\n",
    "data= wsc[:, 2:]\n",
    "\n",
    "n_cls=4\n",
    "kmout= KMeans(n_cls).fit_predict(data)\n",
    "\n",
    "uniq,counts=np.unique(kmout,return_counts=True)\n",
    "print(\"Cluster: size\")\n",
    "for i in range(len(uniq)):\n",
    "    print(\"  {0:.0f}: {1}\".format(uniq[i],counts[i]))\n",
    "print(\"  total:\",len(kmout))"
   ]
  },
  {
   "cell_type": "code",
   "execution_count": null,
   "metadata": {},
   "outputs": [],
   "source": []
  }
 ],
 "metadata": {
  "kernelspec": {
   "display_name": "Python 3",
   "language": "python",
   "name": "python3"
  },
  "language_info": {
   "codemirror_mode": {
    "name": "ipython",
    "version": 3
   },
   "file_extension": ".py",
   "mimetype": "text/x-python",
   "name": "python",
   "nbconvert_exporter": "python",
   "pygments_lexer": "ipython3",
   "version": "3.6.6"
  }
 },
 "nbformat": 4,
 "nbformat_minor": 2
}
